{
 "cells": [
  {
   "cell_type": "code",
   "execution_count": null,
   "id": "b7ad4f62-8e67-4d2e-b6c3-9e44e78de0f1",
   "metadata": {},
   "outputs": [],
   "source": [
    "import numpy as np\n",
    "import scipy as sp\n",
    "import pandas as pd\n",
    "import matplotlib.pyplot as plt\n",
    "import seaborn as sns\n",
    "from sklearn.model_selection import train_test_split\n",
    "from astropy import units as u\n",
    "from astropy.coordinates import SkyCoord\n",
    "from dblinea import DBBase\n",
    "import widgets  as wg\n",
    "\n",
    "%reload_ext autoreload\n",
    "%autoreload 2"
   ]
  },
  {
   "cell_type": "code",
   "execution_count": null,
   "id": "25ae797c-6c29-4224-a7d9-46638d6e6033",
   "metadata": {},
   "outputs": [],
   "source": [
    "db = DBBase()\n",
    "schema = 'des_dr2'\n",
    "table_name = 'main'"
   ]
  },
  {
   "cell_type": "code",
   "execution_count": null,
   "id": "bdcd97a0-923c-4324-9467-144ea3e177b2",
   "metadata": {},
   "outputs": [],
   "source": [
    "db.get_table_columns(table_name, schema=schema)"
   ]
  },
  {
   "cell_type": "code",
   "execution_count": null,
   "id": "546f2391-ac03-4912-8c64-c8be4690026a",
   "metadata": {},
   "outputs": [],
   "source": [
    "# Define coordinates for the selected region\n",
    "ra_min, ra_max = 0, 60\n",
    "dec_min, dec_max = -60, -30\n",
    "\n",
    "# Query the DES database for objects within the specified region\n",
    "query_test = f\"\"\"\n",
    "SELECT * FROM {schema}.{tablename}\n",
    "WHERE ra BETWEEN {ra_min} AND {ra_max}\n",
    "AND dec BETWEEN {dec_min} AND {dec_max}\n",
    "\"\"\"\n",
    "\n",
    "query = f\"\"\"\n",
    "SELECT coadd_object_id, ra ,dec, flags_g, mag_auto_g_dered, \n",
    "mag_auto_r_dered, mag_auto_i_dered, magerr_auto_g, magerr_auto_r,\n",
    "magerr_auto_i FROM {schema}.{tablename} WHERE q3c_radial_query(ra, dec, 15.0, -33.7, 0.5) \n",
    "AND extended_class_coadd < 2 \n",
    "\"\"\"\n",
    "\n",
    "# Execute the query and fetch data\n",
    "data = db.query(query)\n",
    "data_df = db.fetchall_df(query)\n",
    "\n",
    "# Save the data to a CSV file\n",
    "data_df.to_csv(\"des_data.csv\", index=False)\n"
   ]
  },
  {
   "cell_type": "code",
   "execution_count": null,
   "id": "cd8e721f-3306-47cb-aea8-ea601329948f",
   "metadata": {},
   "outputs": [],
   "source": [
    "# Load data\n",
    "data = pd.read_csv(\"des_data.csv\")\n",
    "\n",
    "new_columns = {\"coadd_object_id\": \"object_id\",\n",
    "               \"mag_auto_g_dered\": \"mag_g\",\n",
    "               \"mag_auto_r_dered\": \"mag_r\",\n",
    "               \"mag_auto_i_dered\": \"mag_i\",\n",
    "               \"magerr_auto_g\": \"err_g\", \n",
    "               \"magerr_auto_r\": \"err_r\", \n",
    "               \"magerr_auto_i\": \"err_i\"}\n",
    "\n",
    "data.rename(columns=new_columns, inplace=True)\n",
    "dados[\"gmr\"] = dados.mag_g - dados.mag_r\n",
    "\n",
    "# Distribution of objects\n",
    "plt.figure(figsize=(10, 6))\n",
    "plt.hist(data['mag_g'], bins=30, color='skyblue')\n",
    "plt.xlabel('Magnitude')\n",
    "plt.ylabel('Frequency')\n",
    "plt.title('Distribution of Object Magnitudes')\n",
    "plt.grid(True)\n",
    "plt.show()\n",
    "\n",
    "# Color-Magnitude Diagram\n",
    "plt.figure(figsize=(10, 6))\n",
    "plt.scatter(data['gmr'], data['mag_g'], alpha=0.5)\n",
    "plt.gca().invert_yaxis()  # Invert y-axis for magnitude\n",
    "plt.xlabel('Color Index')\n",
    "plt.ylabel('Magnitude')\n",
    "plt.title('Color-Magnitude Diagram')\n",
    "plt.grid(True)\n",
    "plt.show()\n"
   ]
  },
  {
   "cell_type": "code",
   "execution_count": null,
   "id": "885e333b-5f7b-4f56-9bc9-14b616ea0245",
   "metadata": {},
   "outputs": [],
   "source": [
    "wg.corr_analysis(data)"
   ]
  },
  {
   "cell_type": "code",
   "execution_count": null,
   "id": "fd0b25d4-cf33-48c2-9c7b-bebbc9e071db",
   "metadata": {},
   "outputs": [],
   "source": [
    "target = \"mag_auto_g_dered\""
   ]
  },
  {
   "cell_type": "code",
   "execution_count": null,
   "id": "091f113d-331e-42de-ae10-15f49bc4cb06",
   "metadata": {},
   "outputs": [],
   "source": [
    "features = wg.pc_analysis(data, target) # PCA is not working for strong negative correlations"
   ]
  },
  {
   "cell_type": "code",
   "execution_count": null,
   "id": "e58a421c-7ee1-4cee-8330-1e2402add376",
   "metadata": {},
   "outputs": [],
   "source": [
    "X = data[features[0]].values\n",
    "y = data[target].values\n",
    "\n",
    "plt.figure(figsize=(10, 6))\n",
    "plt.scatter(X,y)\n",
    "plt.grid(True)\n",
    "plt.show()"
   ]
  },
  {
   "cell_type": "code",
   "execution_count": null,
   "id": "7cdf12cb-f8a3-460d-8d4f-cb2ff3e8531f",
   "metadata": {},
   "outputs": [],
   "source": [
    "model, y_out = wg.modeling(X.reshape(-1,1), y)"
   ]
  },
  {
   "cell_type": "code",
   "execution_count": null,
   "id": "27f3322c-44f6-4449-888b-07be4bc6ca1f",
   "metadata": {},
   "outputs": [],
   "source": [
    "X_train, X_test, y_train, y_test = train_test_split(X,\n",
    "                                                    y,\n",
    "                                                    test_size=0.3,\n",
    "                                                    random_state=42)\n",
    "y_pred = model.predict(X_test.reshape(-1,1))\n",
    "wg.results_analysis(y_pred, y_test)"
   ]
  },
  {
   "cell_type": "code",
   "execution_count": null,
   "id": "76977a79-4468-448e-8996-69862941efcb",
   "metadata": {},
   "outputs": [],
   "source": [
    "gmag = np.linspace(5, 12, 20)\n",
    "res = model.predict(gmag.reshape(-1,1))\n",
    "\n",
    "plt.figure(figsize=(10, 6))\n",
    "plt.scatter(gmag,res)\n",
    "plt.grid(True)\n",
    "plt.show()"
   ]
  }
 ],
 "metadata": {
  "kernelspec": {
   "display_name": "Python 3 (ipykernel)",
   "language": "python",
   "name": "python3"
  },
  "language_info": {
   "codemirror_mode": {
    "name": "ipython",
    "version": 3
   },
   "file_extension": ".py",
   "mimetype": "text/x-python",
   "name": "python",
   "nbconvert_exporter": "python",
   "pygments_lexer": "ipython3",
   "version": "3.11.2"
  }
 },
 "nbformat": 4,
 "nbformat_minor": 5
}
